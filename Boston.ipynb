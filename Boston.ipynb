{
  "nbformat": 4,
  "nbformat_minor": 0,
  "metadata": {
    "colab": {
      "name": "Untitled29.ipynb",
      "provenance": []
    },
    "kernelspec": {
      "name": "python3",
      "display_name": "Python 3"
    }
  },
  "cells": [
    {
      "cell_type": "code",
      "metadata": {
        "id": "LuljxPWKhWcH"
      },
      "source": [
        "import numpy as np\n",
        "import matplotlib.pyplot as plt\n",
        "import pandas as pd"
      ],
      "execution_count": null,
      "outputs": []
    },
    {
      "cell_type": "code",
      "metadata": {
        "id": "JQADsPuWhY6M"
      },
      "source": [
        "dataset = pd.read_csv('Boston.csv')\n",
        "X = dataset.iloc[:, :-1].values\n",
        "y = dataset.iloc[:, -1].values"
      ],
      "execution_count": null,
      "outputs": []
    },
    {
      "cell_type": "code",
      "metadata": {
        "id": "JkNyzS-whhBv"
      },
      "source": [
        "print(X)"
      ],
      "execution_count": null,
      "outputs": []
    },
    {
      "cell_type": "code",
      "metadata": {
        "id": "iqOJPfMAhiLd"
      },
      "source": [
        "print(y)"
      ],
      "execution_count": null,
      "outputs": []
    },
    {
      "cell_type": "code",
      "metadata": {
        "id": "8UIo8gSUhsm1"
      },
      "source": [
        "y=y.reshape(len(y),1)"
      ],
      "execution_count": null,
      "outputs": []
    },
    {
      "cell_type": "code",
      "metadata": {
        "id": "r_y82EPohzg2"
      },
      "source": [
        "print(y)"
      ],
      "execution_count": null,
      "outputs": []
    },
    {
      "cell_type": "code",
      "metadata": {
        "id": "ihDNAgd6keaq"
      },
      "source": [
        "from sklearn.model_selection import train_test_split\n",
        "X_train, X_test, y_train, y_test = train_test_split(X, y, test_size = 0.2, random_state = 0)"
      ],
      "execution_count": null,
      "outputs": []
    },
    {
      "cell_type": "code",
      "metadata": {
        "id": "SlZa9nKvh4UJ"
      },
      "source": [
        "from sklearn.preprocessing import StandardScaler\n",
        "sc_X = StandardScaler()\n",
        "sc_y = StandardScaler()\n",
        "X_train = sc_X.fit_transform(X_train)\n",
        "X_test =  sc_X.fit_transform(X_test)\n",
        "y_train = sc_y.fit_transform(y_train)\n",
        "y_test =  sc_y.fit_transform(y_test)"
      ],
      "execution_count": null,
      "outputs": []
    },
    {
      "cell_type": "code",
      "metadata": {
        "id": "JgIvh_ZPh_SF"
      },
      "source": [
        "print(X_train)"
      ],
      "execution_count": null,
      "outputs": []
    },
    {
      "cell_type": "code",
      "metadata": {
        "id": "e87E-Gx7iBaZ"
      },
      "source": [
        "print(y_train)"
      ],
      "execution_count": null,
      "outputs": []
    },
    {
      "cell_type": "code",
      "metadata": {
        "id": "8ZiO8vpMiCw5",
        "outputId": "97f4cf8f-22fe-4a07-85d0-b9dcd7ceeab7",
        "colab": {
          "base_uri": "https://localhost:8080/"
        }
      },
      "source": [
        "from sklearn.svm import SVR\n",
        "regressor = SVR(kernel = 'rbf')\n",
        "regressor.fit(X_train, y_train)"
      ],
      "execution_count": null,
      "outputs": [
        {
          "output_type": "stream",
          "text": [
            "/usr/local/lib/python3.6/dist-packages/sklearn/utils/validation.py:760: DataConversionWarning: A column-vector y was passed when a 1d array was expected. Please change the shape of y to (n_samples, ), for example using ravel().\n",
            "  y = column_or_1d(y, warn=True)\n"
          ],
          "name": "stderr"
        },
        {
          "output_type": "execute_result",
          "data": {
            "text/plain": [
              "SVR(C=1.0, cache_size=200, coef0=0.0, degree=3, epsilon=0.1, gamma='scale',\n",
              "    kernel='rbf', max_iter=-1, shrinking=True, tol=0.001, verbose=False)"
            ]
          },
          "metadata": {
            "tags": []
          },
          "execution_count": 32
        }
      ]
    },
    {
      "cell_type": "code",
      "metadata": {
        "id": "BEv83wZpiISj"
      },
      "source": [
        "y_pred = regressor.predict(X_test)"
      ],
      "execution_count": null,
      "outputs": []
    },
    {
      "cell_type": "code",
      "metadata": {
        "id": "AI99xMQEiKIl",
        "outputId": "68858048-0576-4f72-e40e-79879513b31b",
        "colab": {
          "base_uri": "https://localhost:8080/"
        }
      },
      "source": [
        "np.set_printoptions(precision=2)\n",
        "print(np.concatenate((y_pred.reshape(len(y_pred),1), y_test.reshape(len(y_test),1)),1))"
      ],
      "execution_count": null,
      "outputs": [
        {
          "output_type": "stream",
          "text": [
            "[[ 0.21  0.04]\n",
            " [-0.09  3.08]\n",
            " [ 0.31  0.09]\n",
            " [-1.33 -1.54]\n",
            " [-0.19 -0.11]\n",
            " [-0.26 -0.26]\n",
            " [-0.02 -0.18]\n",
            " [-0.17 -0.39]\n",
            " [-0.07 -0.68]\n",
            " [-0.35 -0.4 ]\n",
            " [-1.08 -1.49]\n",
            " [-1.19 -0.56]\n",
            " [-0.87 -0.81]\n",
            " [-1.59 -1.3 ]\n",
            " [ 1.63  3.08]\n",
            " [ 1.22  0.75]\n",
            " [ 0.01  0.09]\n",
            " [ 1.61  1.23]\n",
            " [ 0.99  0.8 ]\n",
            " [ 0.   -0.14]\n",
            " [ 0.17  0.18]\n",
            " [-0.03 -0.35]\n",
            " [-0.31 -0.2 ]\n",
            " [ 0.63  0.76]\n",
            " [-0.1  -0.32]\n",
            " [-0.06  0.1 ]\n",
            " [-0.59 -0.29]\n",
            " [-0.49 -0.31]\n",
            " [ 1.96  1.83]\n",
            " [-0.49 -0.39]\n",
            " [-0.77 -0.84]\n",
            " [-0.54 -0.25]\n",
            " [-0.32 -0.19]\n",
            " [-0.21 -0.23]\n",
            " [ 0.48  0.15]\n",
            " [-0.23 -0.6 ]\n",
            " [-1.59 -1.84]\n",
            " [ 0.44  3.08]\n",
            " [-0.87 -0.86]\n",
            " [-0.94 -0.99]\n",
            " [ 0.26  0.19]\n",
            " [-0.11 -0.25]\n",
            " [-0.11 -0.27]\n",
            " [-0.63 -0.93]\n",
            " [ 0.08 -0.63]\n",
            " [ 0.15 -0.07]\n",
            " [-0.16 -0.21]\n",
            " [-0.43 -0.58]\n",
            " [-0.72 -1.15]\n",
            " [ 0.08  0.59]\n",
            " [-0.36 -0.73]\n",
            " [-0.06  0.1 ]\n",
            " [ 0.04  0.23]\n",
            " [ 1.75  2.28]\n",
            " [-0.81 -0.73]\n",
            " [-0.12 -0.06]\n",
            " [-0.51 -0.57]\n",
            " [-0.46 -0.56]\n",
            " [-0.77 -0.8 ]\n",
            " [-0.22 -0.06]\n",
            " [-0.29 -0.4 ]\n",
            " [-0.08 -0.14]\n",
            " [ 1.3   1.21]\n",
            " [ 0.95  1.03]\n",
            " [-0.26 -0.23]\n",
            " [ 0.88  0.84]\n",
            " [-0.77 -0.78]\n",
            " [-0.25 -0.8 ]\n",
            " [-0.99  0.59]\n",
            " [ 0.1   0.04]\n",
            " [-0.25 -0.25]\n",
            " [ 0.05 -0.09]\n",
            " [ 0.64  0.14]\n",
            " [ 0.83  1.  ]\n",
            " [ 0.17  0.16]\n",
            " [-1.55 -1.64]\n",
            " [ 2.26  2.89]\n",
            " [ 0.17  0.24]\n",
            " [ 0.47  0.04]\n",
            " [-0.37 -0.43]\n",
            " [ 0.61  0.12]\n",
            " [-0.33 -0.57]\n",
            " [-0.37  0.63]\n",
            " [ 2.2   2.5 ]\n",
            " [ 2.26  3.08]\n",
            " [ 0.14  0.09]\n",
            " [ 0.15 -0.09]\n",
            " [-0.89 -1.33]\n",
            " [ 0.53  0.12]\n",
            " [-0.82  0.11]\n",
            " [-0.34 -0.37]\n",
            " [-1.38 -0.98]\n",
            " [ 0.12 -0.04]\n",
            " [ 0.91  0.29]\n",
            " [-0.25 -1.14]\n",
            " [-0.19  0.23]\n",
            " [-1.04 -0.93]\n",
            " [ 0.58  0.27]\n",
            " [-1.   -0.9 ]\n",
            " [-0.49 -0.39]\n",
            " [ 0.42  0.65]\n",
            " [-0.26 -0.27]]\n"
          ],
          "name": "stdout"
        }
      ]
    },
    {
      "cell_type": "markdown",
      "metadata": {
        "id": "Ba5pskrPkvsJ"
      },
      "source": [
        "Note : Here from the above tabnle we can conclude that SVR alagorithm is also built for accuracy due to the fact that predicted values vs test values justifies the same "
      ]
    }
  ]
}